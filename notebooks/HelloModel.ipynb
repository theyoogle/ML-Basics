{
 "cells": [
  {
   "cell_type": "code",
   "execution_count": 25,
   "id": "33f431ad",
   "metadata": {},
   "outputs": [],
   "source": [
    "import pandas as pd\n",
    "from sklearn.tree import DecisionTreeClassifier\n",
    "import joblib"
   ]
  },
  {
   "cell_type": "code",
   "execution_count": 26,
   "id": "3945e904",
   "metadata": {},
   "outputs": [],
   "source": [
    "# music_data = pd.read_csv(\"music.csv\")\n",
    "\n",
    "# X = music_data.drop(columns=['genre'])\n",
    "# y = music_data['genre']"
   ]
  },
  {
   "cell_type": "code",
   "execution_count": 27,
   "id": "0d1d6003",
   "metadata": {},
   "outputs": [],
   "source": [
    "# model = DecisionTreeClassifier()\n",
    "# model.fit(X, y)\n",
    "\n",
    "# joblib.dump(model, 'music-model.joblib')\n",
    "model = joblib.load('music-model.joblib')"
   ]
  },
  {
   "cell_type": "code",
   "execution_count": 28,
   "id": "b6c635b2",
   "metadata": {},
   "outputs": [
    {
     "name": "stderr",
     "output_type": "stream",
     "text": [
      "/Users/yoogle/ddrive/pthon/venv/lib/python3.9/site-packages/sklearn/base.py:450: UserWarning: X does not have valid feature names, but DecisionTreeClassifier was fitted with feature names\n",
      "  warnings.warn(\n"
     ]
    },
    {
     "data": {
      "text/plain": [
       "array(['HipHop', 'Dance'], dtype=object)"
      ]
     },
     "execution_count": 28,
     "metadata": {},
     "output_type": "execute_result"
    }
   ],
   "source": [
    "model.predict([ [21, 1], [22, 0] ])"
   ]
  }
 ],
 "metadata": {
  "kernelspec": {
   "display_name": "Python 3 (ipykernel)",
   "language": "python",
   "name": "python3"
  },
  "language_info": {
   "codemirror_mode": {
    "name": "ipython",
    "version": 3
   },
   "file_extension": ".py",
   "mimetype": "text/x-python",
   "name": "python",
   "nbconvert_exporter": "python",
   "pygments_lexer": "ipython3",
   "version": "3.9.6"
  }
 },
 "nbformat": 4,
 "nbformat_minor": 5
}
